{
 "cells": [
  {
   "cell_type": "code",
   "execution_count": 1,
   "id": "7f6333d0-bba8-4d60-befa-76971c7b60ca",
   "metadata": {},
   "outputs": [],
   "source": [
    "%load_ext autoreload\n",
    "%autoreload 2"
   ]
  },
  {
   "cell_type": "code",
   "execution_count": 2,
   "id": "997f75a0-fdc0-4794-948e-fc0da8357e13",
   "metadata": {},
   "outputs": [],
   "source": [
    "import calcs\n",
    "from eng_module import wood_design as wd"
   ]
  },
  {
   "cell_type": "code",
   "execution_count": 3,
   "id": "592d7342-a6d8-440e-97cd-05d5ea30e339",
   "metadata": {},
   "outputs": [],
   "source": [
    "min_height = 1000\n",
    "max_height = 10000\n",
    "interval = 200\n",
    "\n",
    "# heights"
   ]
  },
  {
   "cell_type": "code",
   "execution_count": 4,
   "id": "35622a7b-5cb5-4630-9ec5-1489e3f00e59",
   "metadata": {},
   "outputs": [],
   "source": [
    "type = 'Glulam'\n",
    "specie = 'SP'\n",
    "grade = '12c-E'\n",
    "section = '140x140'\n"
   ]
  },
  {
   "cell_type": "code",
   "execution_count": 5,
   "id": "391e0320-4b26-4a14-96f3-77a43ca21ead",
   "metadata": {},
   "outputs": [
    {
     "ename": "NameError",
     "evalue": "name 'type_species_grade' is not defined",
     "output_type": "error",
     "traceback": [
      "\u001b[1;31m---------------------------------------------------------------------------\u001b[0m",
      "\u001b[1;31mNameError\u001b[0m                                 Traceback (most recent call last)",
      "Cell \u001b[1;32mIn[5], line 1\u001b[0m\n\u001b[1;32m----> 1\u001b[0m calcs\u001b[38;5;241m.\u001b[39mcalculate_pr_at_given_height(\u001b[38;5;241m4000\u001b[39m,\u001b[43mtype_species_grade\u001b[49m,\u001b[38;5;124m'\u001b[39m\u001b[38;5;124m130x139\u001b[39m\u001b[38;5;124m'\u001b[39m)\n",
      "\u001b[1;31mNameError\u001b[0m: name 'type_species_grade' is not defined"
     ]
    }
   ],
   "source": [
    "calcs.calculate_pr_at_given_height(4000,type_species_grade,'130x139')"
   ]
  },
  {
   "cell_type": "code",
   "execution_count": 64,
   "id": "d81e868f-b8b5-49bb-b64e-206f69bbd734",
   "metadata": {},
   "outputs": [],
   "source": []
  },
  {
   "cell_type": "code",
   "execution_count": 69,
   "id": "a9fafb07-3bcf-4b35-92df-9c785ccfb313",
   "metadata": {},
   "outputs": [],
   "source": [
    "result_a = xy_values(type,specie,grade,section)"
   ]
  },
  {
   "cell_type": "code",
   "execution_count": 1,
   "id": "f10243f1-9825-4b95-b65b-f1cf2c0266e2",
   "metadata": {},
   "outputs": [],
   "source": [
    "# result_a"
   ]
  },
  {
   "cell_type": "code",
   "execution_count": 9,
   "id": "b0a25382-9dcb-42c6-b74a-944e85837be1",
   "metadata": {},
   "outputs": [],
   "source": [
    "section = '241x140'"
   ]
  },
  {
   "cell_type": "code",
   "execution_count": 7,
   "id": "a74548e9-84c5-4e33-aa4a-387b2901ea2e",
   "metadata": {},
   "outputs": [
    {
     "data": {
      "text/plain": [
       "['140', '140']"
      ]
     },
     "execution_count": 7,
     "metadata": {},
     "output_type": "execute_result"
    }
   ],
   "source": [
    "section.split('x')"
   ]
  },
  {
   "cell_type": "code",
   "execution_count": 5,
   "id": "0720cffb-f156-4a5e-bdc3-0517ee292a51",
   "metadata": {},
   "outputs": [
    {
     "data": {
      "text/plain": [
       "140"
      ]
     },
     "execution_count": 5,
     "metadata": {},
     "output_type": "execute_result"
    }
   ],
   "source": [
    "max(section.split('x'))"
   ]
  },
  {
   "cell_type": "code",
   "execution_count": 10,
   "id": "a01f3c71-9c22-4038-b15f-638e2bd13505",
   "metadata": {},
   "outputs": [
    {
     "data": {
      "text/plain": [
       "241"
      ]
     },
     "execution_count": 10,
     "metadata": {},
     "output_type": "execute_result"
    }
   ],
   "source": [
    "max(int(section.split('x')[0]),int(section.split('x')[1]))"
   ]
  },
  {
   "cell_type": "code",
   "execution_count": 6,
   "id": "3b60bcab-1fd0-4823-949d-3dd09338a199",
   "metadata": {},
   "outputs": [
    {
     "data": {
      "text/plain": [
       "334.0"
      ]
     },
     "execution_count": 6,
     "metadata": {},
     "output_type": "execute_result"
    }
   ],
   "source": [
    "calcs.calculate_tr_at_given_vol_ratio(1,'SS_DFir-L_SS','140x241')"
   ]
  },
  {
   "cell_type": "code",
   "execution_count": 7,
   "id": "c591cfef-b7cb-4ab3-88ac-48205943d1dc",
   "metadata": {},
   "outputs": [
    {
     "data": {
      "text/plain": [
       "([0, 0.75, 1.0], [0.0, 184.0, 245.4])"
      ]
     },
     "execution_count": 7,
     "metadata": {},
     "output_type": "execute_result"
    }
   ],
   "source": [
    "calcs.tr_xy_values('Solid sawn','DFir-L','SS','140x140')"
   ]
  },
  {
   "cell_type": "code",
   "execution_count": 26,
   "id": "9f48b6ce-91ec-4fa5-a882-10f6ccfca79a",
   "metadata": {},
   "outputs": [],
   "source": [
    "sec1 = wd.GlulamSection(b=80,d=418,fbx_pos=25.6,lu=3500,lat_support=None,E=10300)\n",
    "sec1.get_kL()"
   ]
  },
  {
   "cell_type": "code",
   "execution_count": 39,
   "id": "9e716e8a-3923-439a-af8c-80ebb1988844",
   "metadata": {},
   "outputs": [
    {
     "name": "stdout",
     "output_type": "stream",
     "text": [
      "8.28078671210825\n"
     ]
    },
    {
     "data": {
      "text/plain": [
       "1.0"
      ]
     },
     "execution_count": 39,
     "metadata": {},
     "output_type": "execute_result"
    }
   ],
   "source": [
    "sec2 = wd.SolidSawnSection(b=140,d=140,type='SS',fb=25.6,lu=5000,lat_support=None,E=10300)\n",
    "sec2.get_kL()"
   ]
  },
  {
   "cell_type": "code",
   "execution_count": 12,
   "id": "14cb9fa7-38d3-4d7c-ae09-128c65eda143",
   "metadata": {},
   "outputs": [
    {
     "data": {
      "text/plain": [
       "([0.75, 1.0], [17.2, 22.9])"
      ]
     },
     "execution_count": 12,
     "metadata": {},
     "output_type": "execute_result"
    }
   ],
   "source": [
    "calcs.vr_xy_values('Solid sawn','DFir-L','SS','140x140')"
   ]
  },
  {
   "cell_type": "code",
   "execution_count": 42,
   "id": "775ecd9e-c12c-4e23-b497-58ed041a6dcc",
   "metadata": {},
   "outputs": [
    {
     "data": {
      "text/plain": [
       "350000"
      ]
     },
     "execution_count": 42,
     "metadata": {},
     "output_type": "execute_result"
    }
   ],
   "source": [
    "int(50**2 * 140**2 / 140)"
   ]
  },
  {
   "cell_type": "code",
   "execution_count": 43,
   "id": "c68b7664-00e1-4911-aa82-09df60833806",
   "metadata": {},
   "outputs": [
    {
     "data": {
      "text/plain": [
       "1750.0"
      ]
     },
     "execution_count": 43,
     "metadata": {},
     "output_type": "execute_result"
    }
   ],
   "source": [
    "350000/200"
   ]
  },
  {
   "cell_type": "code",
   "execution_count": 44,
   "id": "e488ae5b-5743-468a-94a2-fbf6d9819536",
   "metadata": {},
   "outputs": [
    {
     "data": {
      "text/plain": [
       "1750"
      ]
     },
     "execution_count": 44,
     "metadata": {},
     "output_type": "execute_result"
    }
   ],
   "source": [
    "int(350000/200)"
   ]
  },
  {
   "cell_type": "code",
   "execution_count": null,
   "id": "a5edc3e5-8468-49d7-b6e2-59583e8294e7",
   "metadata": {},
   "outputs": [],
   "source": []
  }
 ],
 "metadata": {
  "kernelspec": {
   "display_name": "Python 3 (ipykernel)",
   "language": "python",
   "name": "python3"
  },
  "language_info": {
   "codemirror_mode": {
    "name": "ipython",
    "version": 3
   },
   "file_extension": ".py",
   "mimetype": "text/x-python",
   "name": "python",
   "nbconvert_exporter": "python",
   "pygments_lexer": "ipython3",
   "version": "3.11.5"
  }
 },
 "nbformat": 4,
 "nbformat_minor": 5
}
